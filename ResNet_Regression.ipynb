{
  "nbformat": 4,
  "nbformat_minor": 0,
  "metadata": {
    "colab": {
      "name": "ResNet Regression.ipynb",
      "provenance": [],
      "collapsed_sections": [],
      "authorship_tag": "ABX9TyPmRLNzex1OtFTvm61RGRvX",
      "include_colab_link": true
    },
    "kernelspec": {
      "name": "python3",
      "display_name": "Python 3"
    },
    "language_info": {
      "name": "python"
    }
  },
  "cells": [
    {
      "cell_type": "markdown",
      "metadata": {
        "id": "view-in-github",
        "colab_type": "text"
      },
      "source": [
        "<a href=\"https://colab.research.google.com/github/pufeiyang/Deep_Learning_Regression/blob/main/ResNet_Regression.ipynb\" target=\"_parent\"><img src=\"https://colab.research.google.com/assets/colab-badge.svg\" alt=\"Open In Colab\"/></a>"
      ]
    },
    {
      "cell_type": "markdown",
      "source": [
        "# Install and Import Modules"
      ],
      "metadata": {
        "id": "euODCsDK3ToF"
      }
    },
    {
      "cell_type": "code",
      "source": [
        ""
      ],
      "metadata": {
        "id": "-CeeYfFW3SiT"
      },
      "execution_count": null,
      "outputs": []
    },
    {
      "cell_type": "code",
      "execution_count": 1,
      "metadata": {
        "id": "LdtTStyx00_Y"
      },
      "outputs": [],
      "source": [
        "from tensorflow.keras import layers,models\n",
        "from tensorflow.keras import callbacks\n",
        "from keras.utils.vis_utils import plot_model\n",
        "from sklearn.model_selection import train_test_split\n",
        "from sklearn.preprocessing import MinMaxScaler\n",
        "import matplotlib.pyplot as plt\n",
        "import numpy as np\n",
        "import pandas as pd\n",
        "import datetime\n",
        "from sklearn.metrics import mean_squared_error"
      ]
    },
    {
      "cell_type": "markdown",
      "source": [
        "# The identity block is the block that has no conv layer at shortcut.\n",
        "## Arguments\n",
        "input_tensor: input tensor  \n",
        "units:output shape\n",
        "## Returns\n",
        "Output tensor for the block."
      ],
      "metadata": {
        "id": "uMPm29e938AK"
      }
    },
    {
      "cell_type": "code",
      "source": [
        "def identity_block(input_tensor,units):\n",
        "\n",
        "\tx = layers.Dense(units)(input_tensor)\n",
        "\tx = layers.BatchNormalization()(x)\n",
        "\tx = layers.Activation('relu')(x)\n",
        "\n",
        "\tx = layers.Dense(units)(x)\n",
        "\tx = layers.BatchNormalization()(x)\n",
        "\tx = layers.Activation('relu')(x)\n",
        "\n",
        "\tx = layers.Dense(units)(x)\n",
        "\tx = layers.BatchNormalization()(x)\n",
        "\n",
        "\tx = layers.add([x, input_tensor])\n",
        "\tx = layers.Activation('relu')(x)\n",
        "\n",
        "\treturn x"
      ],
      "metadata": {
        "id": "NNtKAE7K38fK"
      },
      "execution_count": 2,
      "outputs": []
    },
    {
      "cell_type": "markdown",
      "source": [
        "# A block that has a dense layer at shortcut.\n",
        "## Arguments\n",
        "input_tensor: input tensor  \n",
        "unit: output tensor shape\n",
        "## Returns\n",
        "Output tensor for the block"
      ],
      "metadata": {
        "id": "FOPooe7a5FMN"
      }
    },
    {
      "cell_type": "code",
      "source": [
        "def dens_block(input_tensor,units):\n",
        "\n",
        "\tx = layers.Dense(units)(input_tensor)\n",
        "\tx = layers.BatchNormalization()(x)\n",
        "\tx = layers.Activation('relu')(x)\n",
        "\n",
        "\tx = layers.Dense(units)(x)\n",
        "\tx = layers.BatchNormalization()(x)\n",
        "\tx = layers.Activation('relu')(x)\n",
        "\n",
        "\tx = layers.Dense(units)(x)\n",
        "\tx = layers.BatchNormalization()(x)\n",
        "\n",
        "\tshortcut = layers.Dense(units)(input_tensor)\n",
        "\tshortcut = layers.BatchNormalization()(shortcut)\n",
        "\n",
        "\tx = layers.add([x, shortcut])\n",
        "\tx = layers.Activation('relu')(x)\n",
        "\treturn x"
      ],
      "metadata": {
        "id": "co4O7whE6vKJ"
      },
      "execution_count": 3,
      "outputs": []
    },
    {
      "cell_type": "markdown",
      "source": [
        "# Instantiates the ResNet50 architecture.\n",
        "## Arguments        \n",
        "input_tensor: optional Keras tensor (i.e. output of `layers.Input()`) to use as input for the model.        \n",
        "## Returns\n",
        "A Keras model instance."
      ],
      "metadata": {
        "id": "mGADOa_N7FJJ"
      }
    },
    {
      "cell_type": "code",
      "source": [
        "def ResNet50Regression():\n",
        "\t\n",
        "\tRes_input = layers.Input(shape=(141,))\n",
        "\n",
        "\twidth = 16\n",
        "\n",
        "\tx = dens_block(Res_input,width)\n",
        "\tx = identity_block(x,width)\n",
        "\tx = identity_block(x,width)\n",
        "\n",
        "\tx = dens_block(x,width)\n",
        "\tx = identity_block(x,width)\n",
        "\tx = identity_block(x,width)\n",
        "\t\n",
        "\tx = dens_block(x,width)\n",
        "\tx = identity_block(x,width)\n",
        "\tx = identity_block(x,width)\n",
        "\n",
        "\tx = layers.BatchNormalization()(x)\n",
        "\tx = layers.Dense(1, activation='linear')(x)\n",
        "\tmodel = models.Model(inputs=Res_input, outputs=x)\n",
        "\n",
        "\treturn model"
      ],
      "metadata": {
        "id": "eolwl6uK7kji"
      },
      "execution_count": 4,
      "outputs": []
    },
    {
      "cell_type": "markdown",
      "source": [
        "# Prepare Dataset\n",
        "## Read Dataset\n",
        "Shape of Dataset:(336,145) \n",
        "## Preprocess Dataset\n",
        "Normalization and Standardization. \n",
        "## Split Dataset\n",
        "Shape of x_train:(252, 141)  \n",
        "Shape of y_train:(252, 1)  \n",
        "Shape of x_test:(84, 141)  \n",
        "Shape of y_test:(84, 1)"
      ],
      "metadata": {
        "id": "HiX8MT5yNN3J"
      }
    },
    {
      "cell_type": "code",
      "source": [
        "plt.switch_backend('agg')\n",
        "\n",
        "path = \"/content/dataset.xlsx\"\n",
        "dataSet = pd.read_excel(path)\n",
        "\n",
        "dataSet = np.array(dataSet)\n",
        "# print(dataSet.shape)\n",
        "\n",
        "x = dataSet[:,3:-1]\n",
        "y = dataSet[:,2]\n",
        "y = y.reshape(-1,1)\n",
        "# print(x.shape)\n",
        "# print(y.shape)\n",
        "\n",
        "scaler_x = MinMaxScaler()\n",
        "scaler_y = MinMaxScaler()\n",
        "scaler_x.fit(x)\n",
        "xscale = scaler_x.transform(x)\n",
        "scaler_y.fit(y)\n",
        "yscale = scaler_y.transform(y)\n",
        "X_train, X_test, y_train, y_test = train_test_split(xscale, yscale,test_size=0.25)\n",
        "# print(X_train.shape)\n",
        "# print(y_train.shape)\n",
        "# print(X_test.shape)\n",
        "# print(y_test.shape)"
      ],
      "metadata": {
        "colab": {
          "base_uri": "https://localhost:8080/",
          "height": 411
        },
        "id": "ZKQBIYwtNOXr",
        "outputId": "51996a25-05ed-41aa-bd7e-a1b7f8d55a36"
      },
      "execution_count": 5,
      "outputs": [
        {
          "output_type": "error",
          "ename": "FileNotFoundError",
          "evalue": "ignored",
          "traceback": [
            "\u001b[0;31m---------------------------------------------------------------------------\u001b[0m",
            "\u001b[0;31mFileNotFoundError\u001b[0m                         Traceback (most recent call last)",
            "\u001b[0;32m<ipython-input-5-315c4e0b8748>\u001b[0m in \u001b[0;36m<module>\u001b[0;34m()\u001b[0m\n\u001b[1;32m      2\u001b[0m \u001b[0;34m\u001b[0m\u001b[0m\n\u001b[1;32m      3\u001b[0m \u001b[0mpath\u001b[0m \u001b[0;34m=\u001b[0m \u001b[0;34m\"/content/dataset.xlsx\"\u001b[0m\u001b[0;34m\u001b[0m\u001b[0;34m\u001b[0m\u001b[0m\n\u001b[0;32m----> 4\u001b[0;31m \u001b[0mdataSet\u001b[0m \u001b[0;34m=\u001b[0m \u001b[0mpd\u001b[0m\u001b[0;34m.\u001b[0m\u001b[0mread_excel\u001b[0m\u001b[0;34m(\u001b[0m\u001b[0mpath\u001b[0m\u001b[0;34m)\u001b[0m\u001b[0;34m\u001b[0m\u001b[0;34m\u001b[0m\u001b[0m\n\u001b[0m\u001b[1;32m      5\u001b[0m \u001b[0;34m\u001b[0m\u001b[0m\n\u001b[1;32m      6\u001b[0m \u001b[0mdataSet\u001b[0m \u001b[0;34m=\u001b[0m \u001b[0mnp\u001b[0m\u001b[0;34m.\u001b[0m\u001b[0marray\u001b[0m\u001b[0;34m(\u001b[0m\u001b[0mdataSet\u001b[0m\u001b[0;34m)\u001b[0m\u001b[0;34m\u001b[0m\u001b[0;34m\u001b[0m\u001b[0m\n",
            "\u001b[0;32m/usr/local/lib/python3.7/dist-packages/pandas/util/_decorators.py\u001b[0m in \u001b[0;36mwrapper\u001b[0;34m(*args, **kwargs)\u001b[0m\n\u001b[1;32m    309\u001b[0m                     \u001b[0mstacklevel\u001b[0m\u001b[0;34m=\u001b[0m\u001b[0mstacklevel\u001b[0m\u001b[0;34m,\u001b[0m\u001b[0;34m\u001b[0m\u001b[0;34m\u001b[0m\u001b[0m\n\u001b[1;32m    310\u001b[0m                 )\n\u001b[0;32m--> 311\u001b[0;31m             \u001b[0;32mreturn\u001b[0m \u001b[0mfunc\u001b[0m\u001b[0;34m(\u001b[0m\u001b[0;34m*\u001b[0m\u001b[0margs\u001b[0m\u001b[0;34m,\u001b[0m \u001b[0;34m**\u001b[0m\u001b[0mkwargs\u001b[0m\u001b[0;34m)\u001b[0m\u001b[0;34m\u001b[0m\u001b[0;34m\u001b[0m\u001b[0m\n\u001b[0m\u001b[1;32m    312\u001b[0m \u001b[0;34m\u001b[0m\u001b[0m\n\u001b[1;32m    313\u001b[0m         \u001b[0;32mreturn\u001b[0m \u001b[0mwrapper\u001b[0m\u001b[0;34m\u001b[0m\u001b[0;34m\u001b[0m\u001b[0m\n",
            "\u001b[0;32m/usr/local/lib/python3.7/dist-packages/pandas/io/excel/_base.py\u001b[0m in \u001b[0;36mread_excel\u001b[0;34m(io, sheet_name, header, names, index_col, usecols, squeeze, dtype, engine, converters, true_values, false_values, skiprows, nrows, na_values, keep_default_na, na_filter, verbose, parse_dates, date_parser, thousands, comment, skipfooter, convert_float, mangle_dupe_cols, storage_options)\u001b[0m\n\u001b[1;32m    362\u001b[0m     \u001b[0;32mif\u001b[0m \u001b[0;32mnot\u001b[0m \u001b[0misinstance\u001b[0m\u001b[0;34m(\u001b[0m\u001b[0mio\u001b[0m\u001b[0;34m,\u001b[0m \u001b[0mExcelFile\u001b[0m\u001b[0;34m)\u001b[0m\u001b[0;34m:\u001b[0m\u001b[0;34m\u001b[0m\u001b[0;34m\u001b[0m\u001b[0m\n\u001b[1;32m    363\u001b[0m         \u001b[0mshould_close\u001b[0m \u001b[0;34m=\u001b[0m \u001b[0;32mTrue\u001b[0m\u001b[0;34m\u001b[0m\u001b[0;34m\u001b[0m\u001b[0m\n\u001b[0;32m--> 364\u001b[0;31m         \u001b[0mio\u001b[0m \u001b[0;34m=\u001b[0m \u001b[0mExcelFile\u001b[0m\u001b[0;34m(\u001b[0m\u001b[0mio\u001b[0m\u001b[0;34m,\u001b[0m \u001b[0mstorage_options\u001b[0m\u001b[0;34m=\u001b[0m\u001b[0mstorage_options\u001b[0m\u001b[0;34m,\u001b[0m \u001b[0mengine\u001b[0m\u001b[0;34m=\u001b[0m\u001b[0mengine\u001b[0m\u001b[0;34m)\u001b[0m\u001b[0;34m\u001b[0m\u001b[0;34m\u001b[0m\u001b[0m\n\u001b[0m\u001b[1;32m    365\u001b[0m     \u001b[0;32melif\u001b[0m \u001b[0mengine\u001b[0m \u001b[0;32mand\u001b[0m \u001b[0mengine\u001b[0m \u001b[0;34m!=\u001b[0m \u001b[0mio\u001b[0m\u001b[0;34m.\u001b[0m\u001b[0mengine\u001b[0m\u001b[0;34m:\u001b[0m\u001b[0;34m\u001b[0m\u001b[0;34m\u001b[0m\u001b[0m\n\u001b[1;32m    366\u001b[0m         raise ValueError(\n",
            "\u001b[0;32m/usr/local/lib/python3.7/dist-packages/pandas/io/excel/_base.py\u001b[0m in \u001b[0;36m__init__\u001b[0;34m(self, path_or_buffer, engine, storage_options)\u001b[0m\n\u001b[1;32m   1190\u001b[0m             \u001b[0;32melse\u001b[0m\u001b[0;34m:\u001b[0m\u001b[0;34m\u001b[0m\u001b[0;34m\u001b[0m\u001b[0m\n\u001b[1;32m   1191\u001b[0m                 ext = inspect_excel_format(\n\u001b[0;32m-> 1192\u001b[0;31m                     \u001b[0mcontent_or_path\u001b[0m\u001b[0;34m=\u001b[0m\u001b[0mpath_or_buffer\u001b[0m\u001b[0;34m,\u001b[0m \u001b[0mstorage_options\u001b[0m\u001b[0;34m=\u001b[0m\u001b[0mstorage_options\u001b[0m\u001b[0;34m\u001b[0m\u001b[0;34m\u001b[0m\u001b[0m\n\u001b[0m\u001b[1;32m   1193\u001b[0m                 )\n\u001b[1;32m   1194\u001b[0m                 \u001b[0;32mif\u001b[0m \u001b[0mext\u001b[0m \u001b[0;32mis\u001b[0m \u001b[0;32mNone\u001b[0m\u001b[0;34m:\u001b[0m\u001b[0;34m\u001b[0m\u001b[0;34m\u001b[0m\u001b[0m\n",
            "\u001b[0;32m/usr/local/lib/python3.7/dist-packages/pandas/io/excel/_base.py\u001b[0m in \u001b[0;36minspect_excel_format\u001b[0;34m(content_or_path, storage_options)\u001b[0m\n\u001b[1;32m   1069\u001b[0m \u001b[0;34m\u001b[0m\u001b[0m\n\u001b[1;32m   1070\u001b[0m     with get_handle(\n\u001b[0;32m-> 1071\u001b[0;31m         \u001b[0mcontent_or_path\u001b[0m\u001b[0;34m,\u001b[0m \u001b[0;34m\"rb\"\u001b[0m\u001b[0;34m,\u001b[0m \u001b[0mstorage_options\u001b[0m\u001b[0;34m=\u001b[0m\u001b[0mstorage_options\u001b[0m\u001b[0;34m,\u001b[0m \u001b[0mis_text\u001b[0m\u001b[0;34m=\u001b[0m\u001b[0;32mFalse\u001b[0m\u001b[0;34m\u001b[0m\u001b[0;34m\u001b[0m\u001b[0m\n\u001b[0m\u001b[1;32m   1072\u001b[0m     ) as handle:\n\u001b[1;32m   1073\u001b[0m         \u001b[0mstream\u001b[0m \u001b[0;34m=\u001b[0m \u001b[0mhandle\u001b[0m\u001b[0;34m.\u001b[0m\u001b[0mhandle\u001b[0m\u001b[0;34m\u001b[0m\u001b[0;34m\u001b[0m\u001b[0m\n",
            "\u001b[0;32m/usr/local/lib/python3.7/dist-packages/pandas/io/common.py\u001b[0m in \u001b[0;36mget_handle\u001b[0;34m(path_or_buf, mode, encoding, compression, memory_map, is_text, errors, storage_options)\u001b[0m\n\u001b[1;32m    709\u001b[0m         \u001b[0;32melse\u001b[0m\u001b[0;34m:\u001b[0m\u001b[0;34m\u001b[0m\u001b[0;34m\u001b[0m\u001b[0m\n\u001b[1;32m    710\u001b[0m             \u001b[0;31m# Binary mode\u001b[0m\u001b[0;34m\u001b[0m\u001b[0;34m\u001b[0m\u001b[0;34m\u001b[0m\u001b[0m\n\u001b[0;32m--> 711\u001b[0;31m             \u001b[0mhandle\u001b[0m \u001b[0;34m=\u001b[0m \u001b[0mopen\u001b[0m\u001b[0;34m(\u001b[0m\u001b[0mhandle\u001b[0m\u001b[0;34m,\u001b[0m \u001b[0mioargs\u001b[0m\u001b[0;34m.\u001b[0m\u001b[0mmode\u001b[0m\u001b[0;34m)\u001b[0m\u001b[0;34m\u001b[0m\u001b[0;34m\u001b[0m\u001b[0m\n\u001b[0m\u001b[1;32m    712\u001b[0m         \u001b[0mhandles\u001b[0m\u001b[0;34m.\u001b[0m\u001b[0mappend\u001b[0m\u001b[0;34m(\u001b[0m\u001b[0mhandle\u001b[0m\u001b[0;34m)\u001b[0m\u001b[0;34m\u001b[0m\u001b[0;34m\u001b[0m\u001b[0m\n\u001b[1;32m    713\u001b[0m \u001b[0;34m\u001b[0m\u001b[0m\n",
            "\u001b[0;31mFileNotFoundError\u001b[0m: [Errno 2] No such file or directory: '/content/dataset.xlsx'"
          ]
        }
      ]
    },
    {
      "cell_type": "markdown",
      "source": [
        "# Build Model"
      ],
      "metadata": {
        "id": "NVFu9f2JSwcI"
      }
    },
    {
      "cell_type": "code",
      "source": [
        "model = ResNet50Regression()\n",
        "\n",
        "model.compile(loss='mse', optimizer='adam', metrics=['mse'])\n",
        "# model.summary()\n",
        "\n",
        "#compute running time\n",
        "starttime = datetime.datetime.now()\n",
        "\n",
        "history = model.fit(X_train, y_train, epochs=20, batch_size=5000, verbose=2, callbacks=[callbacks.EarlyStopping(monitor='val_loss', patience=10,verbose=2, mode='auto')], validation_split=0.1)\n",
        "#history = model.fit(X_train, y_train, epochs=10, batch_size=60000,  verbose=1, validation_split=0.1)\n",
        "endtime = datetime.datetime.now()"
      ],
      "metadata": {
        "colab": {
          "base_uri": "https://localhost:8080/"
        },
        "id": "TH-wu_wSS0wr",
        "outputId": "ccb17484-ef4d-4fcd-86eb-d99e8c8c1f1a"
      },
      "execution_count": 51,
      "outputs": [
        {
          "output_type": "stream",
          "name": "stdout",
          "text": [
            "Epoch 1/20\n",
            "1/1 - 10s - loss: 3.2823 - mse: 3.2823 - val_loss: 0.3966 - val_mse: 0.3966 - 10s/epoch - 10s/step\n",
            "Epoch 2/20\n",
            "1/1 - 0s - loss: 2.5212 - mse: 2.5212 - val_loss: 0.3620 - val_mse: 0.3620 - 39ms/epoch - 39ms/step\n",
            "Epoch 3/20\n",
            "1/1 - 0s - loss: 2.1191 - mse: 2.1191 - val_loss: 0.3429 - val_mse: 0.3429 - 48ms/epoch - 48ms/step\n",
            "Epoch 4/20\n",
            "1/1 - 0s - loss: 1.7480 - mse: 1.7480 - val_loss: 0.3344 - val_mse: 0.3344 - 42ms/epoch - 42ms/step\n",
            "Epoch 5/20\n",
            "1/1 - 0s - loss: 1.5296 - mse: 1.5296 - val_loss: 0.3294 - val_mse: 0.3294 - 39ms/epoch - 39ms/step\n",
            "Epoch 6/20\n",
            "1/1 - 0s - loss: 1.3341 - mse: 1.3341 - val_loss: 0.3280 - val_mse: 0.3280 - 48ms/epoch - 48ms/step\n",
            "Epoch 7/20\n",
            "1/1 - 0s - loss: 1.2287 - mse: 1.2287 - val_loss: 0.3290 - val_mse: 0.3290 - 41ms/epoch - 41ms/step\n",
            "Epoch 8/20\n",
            "1/1 - 0s - loss: 1.0885 - mse: 1.0885 - val_loss: 0.3304 - val_mse: 0.3304 - 39ms/epoch - 39ms/step\n",
            "Epoch 9/20\n",
            "1/1 - 0s - loss: 0.9949 - mse: 0.9949 - val_loss: 0.3318 - val_mse: 0.3318 - 41ms/epoch - 41ms/step\n",
            "Epoch 10/20\n",
            "1/1 - 0s - loss: 0.9487 - mse: 0.9487 - val_loss: 0.3321 - val_mse: 0.3321 - 42ms/epoch - 42ms/step\n",
            "Epoch 11/20\n",
            "1/1 - 0s - loss: 0.8828 - mse: 0.8828 - val_loss: 0.3307 - val_mse: 0.3307 - 39ms/epoch - 39ms/step\n",
            "Epoch 12/20\n",
            "1/1 - 0s - loss: 0.8341 - mse: 0.8341 - val_loss: 0.3272 - val_mse: 0.3272 - 38ms/epoch - 38ms/step\n",
            "Epoch 13/20\n",
            "1/1 - 0s - loss: 0.7871 - mse: 0.7871 - val_loss: 0.3237 - val_mse: 0.3237 - 38ms/epoch - 38ms/step\n",
            "Epoch 14/20\n",
            "1/1 - 0s - loss: 0.7442 - mse: 0.7442 - val_loss: 0.3216 - val_mse: 0.3216 - 41ms/epoch - 41ms/step\n",
            "Epoch 15/20\n",
            "1/1 - 0s - loss: 0.7159 - mse: 0.7159 - val_loss: 0.3191 - val_mse: 0.3191 - 40ms/epoch - 40ms/step\n",
            "Epoch 16/20\n",
            "1/1 - 0s - loss: 0.7001 - mse: 0.7001 - val_loss: 0.3178 - val_mse: 0.3178 - 40ms/epoch - 40ms/step\n",
            "Epoch 17/20\n",
            "1/1 - 0s - loss: 0.6834 - mse: 0.6834 - val_loss: 0.3177 - val_mse: 0.3177 - 48ms/epoch - 48ms/step\n",
            "Epoch 18/20\n",
            "1/1 - 0s - loss: 0.6616 - mse: 0.6616 - val_loss: 0.3160 - val_mse: 0.3160 - 42ms/epoch - 42ms/step\n",
            "Epoch 19/20\n",
            "1/1 - 0s - loss: 0.6435 - mse: 0.6435 - val_loss: 0.3164 - val_mse: 0.3164 - 37ms/epoch - 37ms/step\n",
            "Epoch 20/20\n",
            "1/1 - 0s - loss: 0.6301 - mse: 0.6301 - val_loss: 0.3184 - val_mse: 0.3184 - 42ms/epoch - 42ms/step\n"
          ]
        }
      ]
    },
    {
      "cell_type": "markdown",
      "source": [
        "# Save Model"
      ],
      "metadata": {
        "id": "nAQoL70DUfeR"
      }
    },
    {
      "cell_type": "code",
      "source": [
        "model.save('/content/My_ResnetModel.h5')\n",
        "# plot_model(model, to_file='/content/ResnetModel.png')\n",
        "\n",
        "#from keras.models import load_model\n",
        "#model = load_model('/content/My_ResnetModel.h5') "
      ],
      "metadata": {
        "id": "77nQ9LBaUfm3"
      },
      "execution_count": 53,
      "outputs": []
    },
    {
      "cell_type": "markdown",
      "source": [
        "# Model Predicting"
      ],
      "metadata": {
        "id": "r5nAliPiVQuE"
      }
    },
    {
      "cell_type": "code",
      "source": [
        "yhat = model.predict(X_test)\n",
        "\n",
        "print('The time cost: ')\n",
        "print(endtime - starttime)\n",
        "print('The test loss: ')\n",
        "print(mean_squared_error(yhat,y_test))\n",
        "\n",
        "#invert normalize\n",
        "yhat = scaler_y.inverse_transform(yhat) \n",
        "y_test = scaler_y.inverse_transform(y_test)"
      ],
      "metadata": {
        "colab": {
          "base_uri": "https://localhost:8080/"
        },
        "id": "ToggETOSVQ0i",
        "outputId": "453d5a50-8d59-467a-a8f1-b29e8dadc3d2"
      },
      "execution_count": 62,
      "outputs": [
        {
          "output_type": "stream",
          "name": "stdout",
          "text": [
            "The time cost: \n",
            "0:00:10.561498\n",
            "The test loss: \n",
            "1.4293041311959368e+36\n"
          ]
        }
      ]
    },
    {
      "cell_type": "markdown",
      "source": [
        "# Visualize Model"
      ],
      "metadata": {
        "id": "ahGWuKwKVjwz"
      }
    },
    {
      "cell_type": "code",
      "source": [
        "# \"Loss\"\n",
        "plt.figure()\n",
        "plt.plot(history.history['loss'])\n",
        "plt.plot(history.history['val_loss'])\n",
        "plt.title('Model Loss')\n",
        "plt.ylabel('Loss')\n",
        "plt.xlabel('epoch')\n",
        "plt.legend(['train', 'validation'], loc='upper right')\n",
        "# plt.show()\n",
        "plt.savefig('/content/OptimalModelDataSet.png')\n",
        "\n",
        "plt.figure()\n",
        "plt.plot(y_test[0:4000],'rx')\n",
        "plt.plot(yhat[0:4000],' go',markerfacecolor='none')\n",
        "plt.title('Result for ResNet Regression')\n",
        "plt.ylabel('Y value')\n",
        "plt.xlabel('Instance')\n",
        "plt.legend(['Real value', 'Predicted Value'], loc='upper right')\n",
        "plt.savefig('/content/OptimalModelDataSet2.png')\n",
        "# plt.show()\n",
        "\n",
        "file = open('/content/dataset.txt','r+')\n",
        "file.write('predicted ' + 'observed ' + '\\n')\n",
        "for i in range(len(yhat)):\n",
        "\tfile.write(str(yhat[i][0])+' '+str(y_test[i][0])+'\\n')\n",
        "file.close()"
      ],
      "metadata": {
        "id": "QxtovYtaVj43"
      },
      "execution_count": 55,
      "outputs": []
    }
  ]
}