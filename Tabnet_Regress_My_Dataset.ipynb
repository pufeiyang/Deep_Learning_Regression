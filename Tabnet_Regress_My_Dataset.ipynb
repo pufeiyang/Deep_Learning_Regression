{
  "nbformat": 4,
  "nbformat_minor": 0,
  "metadata": {
    "colab": {
      "name": "Tabnet_Regress_My_Dataset.ipynb",
      "provenance": [],
      "collapsed_sections": [],
      "authorship_tag": "ABX9TyOCvUzKdfZK/rqqsmhESNjA",
      "include_colab_link": true
    },
    "kernelspec": {
      "name": "python3",
      "display_name": "Python 3"
    },
    "language_info": {
      "name": "python"
    }
  },
  "cells": [
    {
      "cell_type": "markdown",
      "metadata": {
        "id": "view-in-github",
        "colab_type": "text"
      },
      "source": [
        "<a href=\"https://colab.research.google.com/github/pufeiyang/Deep_Learning_Regression/blob/main/Tabnet_Regress_My_Dataset.ipynb\" target=\"_parent\"><img src=\"https://colab.research.google.com/assets/colab-badge.svg\" alt=\"Open In Colab\"/></a>"
      ]
    },
    {
      "cell_type": "markdown",
      "source": [
        "# 安装必要的库"
      ],
      "metadata": {
        "id": "WwmtXnXeryr_"
      }
    },
    {
      "cell_type": "code",
      "execution_count": null,
      "metadata": {
        "colab": {
          "base_uri": "https://localhost:8080/"
        },
        "id": "2L19JsAOrEgS",
        "outputId": "c0e3c948-4848-4b49-d199-afac21f70121"
      },
      "outputs": [
        {
          "output_type": "stream",
          "name": "stdout",
          "text": [
            "Collecting pytorch-tabnet\n",
            "  Downloading pytorch_tabnet-3.1.1-py3-none-any.whl (39 kB)\n",
            "Requirement already satisfied: scipy>1.4 in /usr/local/lib/python3.7/dist-packages (from pytorch-tabnet) (1.4.1)\n",
            "Requirement already satisfied: numpy<2.0,>=1.17 in /usr/local/lib/python3.7/dist-packages (from pytorch-tabnet) (1.21.6)\n",
            "Requirement already satisfied: scikit_learn>0.21 in /usr/local/lib/python3.7/dist-packages (from pytorch-tabnet) (1.0.2)\n",
            "Requirement already satisfied: tqdm<5.0,>=4.36 in /usr/local/lib/python3.7/dist-packages (from pytorch-tabnet) (4.64.0)\n",
            "Requirement already satisfied: torch<2.0,>=1.2 in /usr/local/lib/python3.7/dist-packages (from pytorch-tabnet) (1.11.0+cu113)\n",
            "Requirement already satisfied: threadpoolctl>=2.0.0 in /usr/local/lib/python3.7/dist-packages (from scikit_learn>0.21->pytorch-tabnet) (3.1.0)\n",
            "Requirement already satisfied: joblib>=0.11 in /usr/local/lib/python3.7/dist-packages (from scikit_learn>0.21->pytorch-tabnet) (1.1.0)\n",
            "Requirement already satisfied: typing-extensions in /usr/local/lib/python3.7/dist-packages (from torch<2.0,>=1.2->pytorch-tabnet) (4.2.0)\n",
            "Installing collected packages: pytorch-tabnet\n",
            "Successfully installed pytorch-tabnet-3.1.1\n",
            "Collecting wget\n",
            "  Downloading wget-3.2.zip (10 kB)\n",
            "Building wheels for collected packages: wget\n",
            "  Building wheel for wget (setup.py) ... \u001b[?25l\u001b[?25hdone\n",
            "  Created wheel for wget: filename=wget-3.2-py3-none-any.whl size=9675 sha256=ad01ac1c237ea2238303467cc4a4b43605b954975d44a2e1e2e45be5c61081bf\n",
            "  Stored in directory: /root/.cache/pip/wheels/a1/b6/7c/0e63e34eb06634181c63adacca38b79ff8f35c37e3c13e3c02\n",
            "Successfully built wget\n",
            "Installing collected packages: wget\n",
            "Successfully installed wget-3.2\n"
          ]
        }
      ],
      "source": [
        "!pip install pytorch-tabnet\n",
        "!pip install wget"
      ]
    },
    {
      "cell_type": "markdown",
      "source": [
        "# 导入必要的库"
      ],
      "metadata": {
        "id": "avSNjixfr-hS"
      }
    },
    {
      "cell_type": "code",
      "source": [
        "from pytorch_tabnet.tab_model import TabNetRegressor\n",
        "\n",
        "import torch\n",
        "from sklearn.preprocessing import LabelEncoder\n",
        "from sklearn.metrics import mean_squared_error\n",
        "from sklearn.model_selection import train_test_split\n",
        "\n",
        "import pandas as pd\n",
        "import numpy as np\n",
        "np.random.seed(0)\n",
        "\n",
        "from matplotlib import pyplot as plt\n",
        "\n",
        "import os\n",
        "import wget\n",
        "from pathlib import Path"
      ],
      "metadata": {
        "id": "WLgXuh1usCfC"
      },
      "execution_count": null,
      "outputs": []
    },
    {
      "cell_type": "markdown",
      "source": [
        "# 载入数据和划分数据集"
      ],
      "metadata": {
        "id": "QvQlTEhdsXyr"
      }
    },
    {
      "cell_type": "code",
      "source": [
        "data_path = '/Dataset.xlsx'\n",
        "df = pd.read_excel(data_path)\n",
        "df.head(5)"
      ],
      "metadata": {
        "colab": {
          "base_uri": "https://localhost:8080/",
          "height": 300
        },
        "id": "TSluYR1SscK-",
        "outputId": "99b753c3-fb0e-4a5f-aeba-c021a10ddba2"
      },
      "execution_count": null,
      "outputs": [
        {
          "output_type": "execute_result",
          "data": {
            "text/plain": [
              "   mmse(m24)  ZABETA_UPENNBIOMK9_04_19_17  ZTAU_UPENNBIOMK9_04_19_17  \\\n",
              "0         27                      1.42393                    0.06375   \n",
              "1         30                      0.03987                   -0.61044   \n",
              "2         28                      0.64827                   -0.54429   \n",
              "3         29                     -0.14347                    0.01391   \n",
              "4         30                     -0.45258                   -0.52526   \n",
              "\n",
              "   ZPTAU_UPENNBIOMK9_04_19_17     ZAGE   ZAPOE4     ZFDG  ZRAVLT_immediate  \\\n",
              "0                    -0.12316  0.50334 -0.71701  0.47600           1.25495   \n",
              "1                    -0.66533  1.00535 -0.71701 -0.41630          -0.35592   \n",
              "2                    -0.48109 -0.23646 -0.71701  2.11095           0.27053   \n",
              "3                     0.03186 -0.03830  0.98199  0.40925           0.89698   \n",
              "4                    -0.53871 -1.41222 -0.71701  1.56180          -1.07186   \n",
              "\n",
              "    ZCDRSB  ZADAS11  ...  Zrh_inferiortemporal_volume  \\\n",
              "0 -0.89064 -0.37825  ...                     -0.80558   \n",
              "1 -0.89064 -0.37825  ...                      1.06081   \n",
              "2 -0.89064  0.25604  ...                     -0.32981   \n",
              "3 -0.89064  0.04461  ...                      0.57954   \n",
              "4 -0.48866  0.67890  ...                     -0.47413   \n",
              "\n",
              "   Zrh_middletemporal_volume  Zrh_parahippocampal_volume  \\\n",
              "0                   -1.53492                    -0.22033   \n",
              "1                   -0.82423                     0.22365   \n",
              "2                   -0.41592                    -0.30792   \n",
              "3                   -0.04582                    -0.40759   \n",
              "4                   -0.15913                     0.67670   \n",
              "\n",
              "   Zrh_posteriorcingulate_volume  Zrh_precuneus_volume  \\\n",
              "0                       -1.05270              -0.38616   \n",
              "1                        0.25408              -0.45826   \n",
              "2                        0.02757               0.16070   \n",
              "3                        0.56965               0.34324   \n",
              "4                       -0.41964              -0.75738   \n",
              "\n",
              "   Zrh_rostralmiddlefrontal_volume  Zrh_superiorfrontal_volume  \\\n",
              "0                         -0.70159                    -0.75244   \n",
              "1                         -0.20723                    -0.08814   \n",
              "2                         -0.71896                    -0.44941   \n",
              "3                          0.23658                     1.26612   \n",
              "4                          0.90625                     0.06745   \n",
              "\n",
              "   Zrh_superiorparietal_volume  Zrh_superiortemporal_volume  \\\n",
              "0                     -0.82934                     -0.54609   \n",
              "1                     -1.26481                      0.17315   \n",
              "2                      0.91662                     -0.68629   \n",
              "3                     -0.72064                     -0.10724   \n",
              "4                      0.77191                     -0.04005   \n",
              "\n",
              "   Zrh_supramarginal_volume  \n",
              "0                  -0.90841  \n",
              "1                  -1.68200  \n",
              "2                   0.47743  \n",
              "3                   0.40958  \n",
              "4                   0.01907  \n",
              "\n",
              "[5 rows x 136 columns]"
            ],
            "text/html": [
              "\n",
              "  <div id=\"df-a5c24794-4ade-474f-83cc-47cabd648391\">\n",
              "    <div class=\"colab-df-container\">\n",
              "      <div>\n",
              "<style scoped>\n",
              "    .dataframe tbody tr th:only-of-type {\n",
              "        vertical-align: middle;\n",
              "    }\n",
              "\n",
              "    .dataframe tbody tr th {\n",
              "        vertical-align: top;\n",
              "    }\n",
              "\n",
              "    .dataframe thead th {\n",
              "        text-align: right;\n",
              "    }\n",
              "</style>\n",
              "<table border=\"1\" class=\"dataframe\">\n",
              "  <thead>\n",
              "    <tr style=\"text-align: right;\">\n",
              "      <th></th>\n",
              "      <th>mmse(m24)</th>\n",
              "      <th>ZABETA_UPENNBIOMK9_04_19_17</th>\n",
              "      <th>ZTAU_UPENNBIOMK9_04_19_17</th>\n",
              "      <th>ZPTAU_UPENNBIOMK9_04_19_17</th>\n",
              "      <th>ZAGE</th>\n",
              "      <th>ZAPOE4</th>\n",
              "      <th>ZFDG</th>\n",
              "      <th>ZRAVLT_immediate</th>\n",
              "      <th>ZCDRSB</th>\n",
              "      <th>ZADAS11</th>\n",
              "      <th>...</th>\n",
              "      <th>Zrh_inferiortemporal_volume</th>\n",
              "      <th>Zrh_middletemporal_volume</th>\n",
              "      <th>Zrh_parahippocampal_volume</th>\n",
              "      <th>Zrh_posteriorcingulate_volume</th>\n",
              "      <th>Zrh_precuneus_volume</th>\n",
              "      <th>Zrh_rostralmiddlefrontal_volume</th>\n",
              "      <th>Zrh_superiorfrontal_volume</th>\n",
              "      <th>Zrh_superiorparietal_volume</th>\n",
              "      <th>Zrh_superiortemporal_volume</th>\n",
              "      <th>Zrh_supramarginal_volume</th>\n",
              "    </tr>\n",
              "  </thead>\n",
              "  <tbody>\n",
              "    <tr>\n",
              "      <th>0</th>\n",
              "      <td>27</td>\n",
              "      <td>1.42393</td>\n",
              "      <td>0.06375</td>\n",
              "      <td>-0.12316</td>\n",
              "      <td>0.50334</td>\n",
              "      <td>-0.71701</td>\n",
              "      <td>0.47600</td>\n",
              "      <td>1.25495</td>\n",
              "      <td>-0.89064</td>\n",
              "      <td>-0.37825</td>\n",
              "      <td>...</td>\n",
              "      <td>-0.80558</td>\n",
              "      <td>-1.53492</td>\n",
              "      <td>-0.22033</td>\n",
              "      <td>-1.05270</td>\n",
              "      <td>-0.38616</td>\n",
              "      <td>-0.70159</td>\n",
              "      <td>-0.75244</td>\n",
              "      <td>-0.82934</td>\n",
              "      <td>-0.54609</td>\n",
              "      <td>-0.90841</td>\n",
              "    </tr>\n",
              "    <tr>\n",
              "      <th>1</th>\n",
              "      <td>30</td>\n",
              "      <td>0.03987</td>\n",
              "      <td>-0.61044</td>\n",
              "      <td>-0.66533</td>\n",
              "      <td>1.00535</td>\n",
              "      <td>-0.71701</td>\n",
              "      <td>-0.41630</td>\n",
              "      <td>-0.35592</td>\n",
              "      <td>-0.89064</td>\n",
              "      <td>-0.37825</td>\n",
              "      <td>...</td>\n",
              "      <td>1.06081</td>\n",
              "      <td>-0.82423</td>\n",
              "      <td>0.22365</td>\n",
              "      <td>0.25408</td>\n",
              "      <td>-0.45826</td>\n",
              "      <td>-0.20723</td>\n",
              "      <td>-0.08814</td>\n",
              "      <td>-1.26481</td>\n",
              "      <td>0.17315</td>\n",
              "      <td>-1.68200</td>\n",
              "    </tr>\n",
              "    <tr>\n",
              "      <th>2</th>\n",
              "      <td>28</td>\n",
              "      <td>0.64827</td>\n",
              "      <td>-0.54429</td>\n",
              "      <td>-0.48109</td>\n",
              "      <td>-0.23646</td>\n",
              "      <td>-0.71701</td>\n",
              "      <td>2.11095</td>\n",
              "      <td>0.27053</td>\n",
              "      <td>-0.89064</td>\n",
              "      <td>0.25604</td>\n",
              "      <td>...</td>\n",
              "      <td>-0.32981</td>\n",
              "      <td>-0.41592</td>\n",
              "      <td>-0.30792</td>\n",
              "      <td>0.02757</td>\n",
              "      <td>0.16070</td>\n",
              "      <td>-0.71896</td>\n",
              "      <td>-0.44941</td>\n",
              "      <td>0.91662</td>\n",
              "      <td>-0.68629</td>\n",
              "      <td>0.47743</td>\n",
              "    </tr>\n",
              "    <tr>\n",
              "      <th>3</th>\n",
              "      <td>29</td>\n",
              "      <td>-0.14347</td>\n",
              "      <td>0.01391</td>\n",
              "      <td>0.03186</td>\n",
              "      <td>-0.03830</td>\n",
              "      <td>0.98199</td>\n",
              "      <td>0.40925</td>\n",
              "      <td>0.89698</td>\n",
              "      <td>-0.89064</td>\n",
              "      <td>0.04461</td>\n",
              "      <td>...</td>\n",
              "      <td>0.57954</td>\n",
              "      <td>-0.04582</td>\n",
              "      <td>-0.40759</td>\n",
              "      <td>0.56965</td>\n",
              "      <td>0.34324</td>\n",
              "      <td>0.23658</td>\n",
              "      <td>1.26612</td>\n",
              "      <td>-0.72064</td>\n",
              "      <td>-0.10724</td>\n",
              "      <td>0.40958</td>\n",
              "    </tr>\n",
              "    <tr>\n",
              "      <th>4</th>\n",
              "      <td>30</td>\n",
              "      <td>-0.45258</td>\n",
              "      <td>-0.52526</td>\n",
              "      <td>-0.53871</td>\n",
              "      <td>-1.41222</td>\n",
              "      <td>-0.71701</td>\n",
              "      <td>1.56180</td>\n",
              "      <td>-1.07186</td>\n",
              "      <td>-0.48866</td>\n",
              "      <td>0.67890</td>\n",
              "      <td>...</td>\n",
              "      <td>-0.47413</td>\n",
              "      <td>-0.15913</td>\n",
              "      <td>0.67670</td>\n",
              "      <td>-0.41964</td>\n",
              "      <td>-0.75738</td>\n",
              "      <td>0.90625</td>\n",
              "      <td>0.06745</td>\n",
              "      <td>0.77191</td>\n",
              "      <td>-0.04005</td>\n",
              "      <td>0.01907</td>\n",
              "    </tr>\n",
              "  </tbody>\n",
              "</table>\n",
              "<p>5 rows × 136 columns</p>\n",
              "</div>\n",
              "      <button class=\"colab-df-convert\" onclick=\"convertToInteractive('df-a5c24794-4ade-474f-83cc-47cabd648391')\"\n",
              "              title=\"Convert this dataframe to an interactive table.\"\n",
              "              style=\"display:none;\">\n",
              "        \n",
              "  <svg xmlns=\"http://www.w3.org/2000/svg\" height=\"24px\"viewBox=\"0 0 24 24\"\n",
              "       width=\"24px\">\n",
              "    <path d=\"M0 0h24v24H0V0z\" fill=\"none\"/>\n",
              "    <path d=\"M18.56 5.44l.94 2.06.94-2.06 2.06-.94-2.06-.94-.94-2.06-.94 2.06-2.06.94zm-11 1L8.5 8.5l.94-2.06 2.06-.94-2.06-.94L8.5 2.5l-.94 2.06-2.06.94zm10 10l.94 2.06.94-2.06 2.06-.94-2.06-.94-.94-2.06-.94 2.06-2.06.94z\"/><path d=\"M17.41 7.96l-1.37-1.37c-.4-.4-.92-.59-1.43-.59-.52 0-1.04.2-1.43.59L10.3 9.45l-7.72 7.72c-.78.78-.78 2.05 0 2.83L4 21.41c.39.39.9.59 1.41.59.51 0 1.02-.2 1.41-.59l7.78-7.78 2.81-2.81c.8-.78.8-2.07 0-2.86zM5.41 20L4 18.59l7.72-7.72 1.47 1.35L5.41 20z\"/>\n",
              "  </svg>\n",
              "      </button>\n",
              "      \n",
              "  <style>\n",
              "    .colab-df-container {\n",
              "      display:flex;\n",
              "      flex-wrap:wrap;\n",
              "      gap: 12px;\n",
              "    }\n",
              "\n",
              "    .colab-df-convert {\n",
              "      background-color: #E8F0FE;\n",
              "      border: none;\n",
              "      border-radius: 50%;\n",
              "      cursor: pointer;\n",
              "      display: none;\n",
              "      fill: #1967D2;\n",
              "      height: 32px;\n",
              "      padding: 0 0 0 0;\n",
              "      width: 32px;\n",
              "    }\n",
              "\n",
              "    .colab-df-convert:hover {\n",
              "      background-color: #E2EBFA;\n",
              "      box-shadow: 0px 1px 2px rgba(60, 64, 67, 0.3), 0px 1px 3px 1px rgba(60, 64, 67, 0.15);\n",
              "      fill: #174EA6;\n",
              "    }\n",
              "\n",
              "    [theme=dark] .colab-df-convert {\n",
              "      background-color: #3B4455;\n",
              "      fill: #D2E3FC;\n",
              "    }\n",
              "\n",
              "    [theme=dark] .colab-df-convert:hover {\n",
              "      background-color: #434B5C;\n",
              "      box-shadow: 0px 1px 3px 1px rgba(0, 0, 0, 0.15);\n",
              "      filter: drop-shadow(0px 1px 2px rgba(0, 0, 0, 0.3));\n",
              "      fill: #FFFFFF;\n",
              "    }\n",
              "  </style>\n",
              "\n",
              "      <script>\n",
              "        const buttonEl =\n",
              "          document.querySelector('#df-a5c24794-4ade-474f-83cc-47cabd648391 button.colab-df-convert');\n",
              "        buttonEl.style.display =\n",
              "          google.colab.kernel.accessAllowed ? 'block' : 'none';\n",
              "\n",
              "        async function convertToInteractive(key) {\n",
              "          const element = document.querySelector('#df-a5c24794-4ade-474f-83cc-47cabd648391');\n",
              "          const dataTable =\n",
              "            await google.colab.kernel.invokeFunction('convertToInteractive',\n",
              "                                                     [key], {});\n",
              "          if (!dataTable) return;\n",
              "\n",
              "          const docLinkHtml = 'Like what you see? Visit the ' +\n",
              "            '<a target=\"_blank\" href=https://colab.research.google.com/notebooks/data_table.ipynb>data table notebook</a>'\n",
              "            + ' to learn more about interactive tables.';\n",
              "          element.innerHTML = '';\n",
              "          dataTable['output_type'] = 'display_data';\n",
              "          await google.colab.output.renderOutput(dataTable, element);\n",
              "          const docLink = document.createElement('div');\n",
              "          docLink.innerHTML = docLinkHtml;\n",
              "          element.appendChild(docLink);\n",
              "        }\n",
              "      </script>\n",
              "    </div>\n",
              "  </div>\n",
              "  "
            ]
          },
          "metadata": {},
          "execution_count": 4
        }
      ]
    },
    {
      "cell_type": "code",
      "source": [
        "features = df.iloc[:,1:].values\n",
        "target = df.iloc[:,0].values\n",
        "print('The shape of features:',features.shape)\n",
        "print('The shape of target:',target.shape)\n",
        "\n",
        "x_train,x_test,y_train,y_test = train_test_split(features,target,test_size=0.2,random_state=5)\n",
        "print('\\nThe shape of x_train:',x_train.shape)\n",
        "print('The shape of x_test:',x_test.shape)\n",
        "print('The shape of y_train:',y_train.shape)\n",
        "print('The shape of y_test:',y_test.shape)\n",
        "\n",
        "y_train = y_train.reshape(-1, 1)\n",
        "y_test = y_test.reshape(-1, 1)"
      ],
      "metadata": {
        "colab": {
          "base_uri": "https://localhost:8080/"
        },
        "id": "lqI4Nn0is8kf",
        "outputId": "634b8dce-2bb4-49fd-ad35-058c844938fe"
      },
      "execution_count": null,
      "outputs": [
        {
          "output_type": "stream",
          "name": "stdout",
          "text": [
            "The shape of features: (218, 135)\n",
            "The shape of target: (218,)\n",
            "\n",
            "The shape of x_train: (174, 135)\n",
            "The shape of x_test: (44, 135)\n",
            "The shape of y_train: (174,)\n",
            "The shape of y_test: (44,)\n"
          ]
        }
      ]
    },
    {
      "cell_type": "markdown",
      "source": [
        "# 模型训练"
      ],
      "metadata": {
        "id": "9mLICecjwdbu"
      }
    },
    {
      "cell_type": "code",
      "source": [
        "model = TabNetRegressor()"
      ],
      "metadata": {
        "colab": {
          "base_uri": "https://localhost:8080/"
        },
        "id": "mVXLjAhqwgNt",
        "outputId": "ef32d21c-eb90-484b-ec85-c7abca961b73"
      },
      "execution_count": null,
      "outputs": [
        {
          "output_type": "stream",
          "name": "stdout",
          "text": [
            "Device used : cpu\n"
          ]
        }
      ]
    },
    {
      "cell_type": "code",
      "source": [
        "model.fit(\n",
        "    X_train=x_train, y_train=y_train,\n",
        "    eval_set=[(x_train, y_train), (x_test, y_test)],\n",
        "    eval_name=['train', 'valid'],\n",
        "    eval_metric=['rmsle', 'mae', 'rmse', 'mse'],\n",
        "    max_epochs=100,\n",
        "    patience=50,\n",
        "    batch_size=1024, virtual_batch_size=128,\n",
        "    num_workers=0,\n",
        "    drop_last=False\n",
        ")"
      ],
      "metadata": {
        "colab": {
          "base_uri": "https://localhost:8080/"
        },
        "id": "iS_6ODRI54oV",
        "outputId": "1bca7f6d-6bdb-4ef0-b34c-b9c4eeb8e609"
      },
      "execution_count": null,
      "outputs": [
        {
          "output_type": "stream",
          "name": "stdout",
          "text": [
            "epoch 0  | loss: 961.22107| train_rmsle: 11.11227| train_mae: 28.5688 | train_rmse: 28.81533| train_mse: 830.32351| valid_rmsle: 11.18089| valid_mae: 29.23393| valid_rmse: 29.49627| valid_mse: 870.02996|  0:00:00s\n",
            "epoch 1  | loss: 931.53088| train_rmsle: 11.11227| train_mae: 28.17621| train_rmse: 28.42755| train_mse: 808.12574| valid_rmsle: 11.18089| valid_mae: 29.04788| valid_rmse: 29.30905| valid_mse: 859.02023|  0:00:00s\n",
            "epoch 2  | loss: 906.84363| train_rmsle: 11.11227| train_mae: 27.95037| train_rmse: 28.20433| train_mse: 795.48442| valid_rmsle: 11.18089| valid_mae: 28.48022| valid_rmse: 28.74187| valid_mse: 826.09513|  0:00:00s\n",
            "epoch 3  | loss: 877.48969| train_rmsle: 11.11227| train_mae: 27.78485| train_rmse: 28.03158| train_mse: 785.76922| valid_rmsle: 11.18089| valid_mae: 28.05668| valid_rmse: 28.23379| valid_mse: 797.14706|  0:00:00s\n",
            "epoch 4  | loss: 858.07318| train_rmsle: 11.11227| train_mae: 27.65964| train_rmse: 27.90178| train_mse: 778.50909| valid_rmsle: 11.18089| valid_mae: 28.05552| valid_rmse: 28.22479| valid_mse: 796.63857|  0:00:00s\n",
            "epoch 5  | loss: 836.83441| train_rmsle: 11.11201| train_mae: 27.5531 | train_rmse: 27.80177| train_mse: 772.93869| valid_rmsle: 11.18089| valid_mae: 27.94396| valid_rmse: 28.12173| valid_mse: 790.8317|  0:00:00s\n",
            "epoch 6  | loss: 822.51031| train_rmsle: 11.11077| train_mae: 27.48183| train_rmse: 27.72917| train_mse: 768.90691| valid_rmsle: 11.18089| valid_mae: 27.8426 | valid_rmse: 28.02307| valid_mse: 785.29233|  0:00:00s\n",
            "epoch 7  | loss: 803.98096| train_rmsle: 11.10825| train_mae: 27.42601| train_rmse: 27.6716 | train_mse: 765.71752| valid_rmsle: 11.17989| valid_mae: 27.75112| valid_rmse: 27.93565| valid_mse: 780.40047|  0:00:00s\n",
            "epoch 8  | loss: 792.36237| train_rmsle: 11.09864| train_mae: 27.3918 | train_rmse: 27.63773| train_mse: 763.84393| valid_rmsle: 11.17526| valid_mae: 27.68103| valid_rmse: 27.86718| valid_mse: 776.57962|  0:00:00s\n",
            "epoch 9  | loss: 780.67932| train_rmsle: 11.07321| train_mae: 27.33044| train_rmse: 27.57575| train_mse: 760.42184| valid_rmsle: 11.1656 | valid_mae: 27.61677| valid_rmse: 27.80747| valid_mse: 773.25547|  0:00:00s\n",
            "epoch 10 | loss: 775.87036| train_rmsle: 11.02495| train_mae: 27.29148| train_rmse: 27.53872| train_mse: 758.38087| valid_rmsle: 11.13171| valid_mae: 27.55682| valid_rmse: 27.75354| valid_mse: 770.25918|  0:00:00s\n",
            "epoch 11 | loss: 767.57434| train_rmsle: 10.96183| train_mae: 27.25356| train_rmse: 27.50132| train_mse: 756.32281| valid_rmsle: 11.03819| valid_mae: 27.51418| valid_rmse: 27.71199| valid_mse: 767.95466|  0:00:00s\n",
            "epoch 12 | loss: 760.4892| train_rmsle: 10.89405| train_mae: 27.22387| train_rmse: 27.47153| train_mse: 754.68498| valid_rmsle: 10.96879| valid_mae: 27.4854 | valid_rmse: 27.68324| valid_mse: 766.36167|  0:00:00s\n",
            "epoch 13 | loss: 757.01733| train_rmsle: 10.75969| train_mae: 27.19157| train_rmse: 27.44038| train_mse: 752.97423| valid_rmsle: 10.81985| valid_mae: 27.44212| valid_rmse: 27.64045| valid_mse: 763.99474|  0:00:00s\n",
            "epoch 14 | loss: 750.33826| train_rmsle: 10.64054| train_mae: 27.16715| train_rmse: 27.41574| train_mse: 751.62276| valid_rmsle: 10.70257| valid_mae: 27.41339| valid_rmse: 27.61199| valid_mse: 762.42225|  0:00:01s\n",
            "epoch 15 | loss: 746.83887| train_rmsle: 10.49079| train_mae: 27.13647| train_rmse: 27.3856 | train_mse: 749.97112| valid_rmsle: 10.56486| valid_mae: 27.38538| valid_rmse: 27.5849 | valid_mse: 760.9269|  0:00:01s\n",
            "epoch 16 | loss: 742.17609| train_rmsle: 10.31845| train_mae: 27.10231| train_rmse: 27.35155| train_mse: 748.10715| valid_rmsle: 10.3762 | valid_mae: 27.34729| valid_rmse: 27.54624| valid_mse: 758.7951|  0:00:01s\n",
            "epoch 17 | loss: 738.63611| train_rmsle: 10.09874| train_mae: 27.06052| train_rmse: 27.30937| train_mse: 745.80182| valid_rmsle: 10.09038| valid_mae: 27.28458| valid_rmse: 27.48372| valid_mse: 755.35499|  0:00:01s\n",
            "epoch 18 | loss: 733.17981| train_rmsle: 9.82318 | train_mae: 27.00576| train_rmse: 27.25521| train_mse: 742.84645| valid_rmsle: 9.87362 | valid_mae: 27.24451| valid_rmse: 27.44242| valid_mse: 753.08626|  0:00:01s\n",
            "epoch 19 | loss: 729.00409| train_rmsle: 9.48411 | train_mae: 26.93265| train_rmse: 27.18422| train_mse: 738.98191| valid_rmsle: 9.55904 | valid_mae: 27.17773| valid_rmse: 27.37656| valid_mse: 749.47602|  0:00:01s\n",
            "epoch 20 | loss: 724.17279| train_rmsle: 9.079   | train_mae: 26.8363 | train_rmse: 27.09209| train_mse: 733.98116| valid_rmsle: 9.1545  | valid_mae: 27.08082| valid_rmse: 27.28136| valid_mse: 744.27269|  0:00:01s\n",
            "epoch 21 | loss: 720.13086| train_rmsle: 8.67958 | train_mae: 26.72952| train_rmse: 26.98781| train_mse: 728.34183| valid_rmsle: 8.80287 | valid_mae: 26.98823| valid_rmse: 27.18941| valid_mse: 739.26389|  0:00:01s\n",
            "epoch 22 | loss: 709.9491| train_rmsle: 8.20702 | train_mae: 26.58975| train_rmse: 26.84919| train_mse: 720.87878| valid_rmsle: 8.39264 | valid_mae: 26.87483| valid_rmse: 27.07923| valid_mse: 733.28479|  0:00:01s\n",
            "epoch 23 | loss: 703.42596| train_rmsle: 7.75598 | train_mae: 26.44487| train_rmse: 26.70522| train_mse: 713.16876| valid_rmsle: 7.93399 | valid_mae: 26.73444| valid_rmse: 26.94193| valid_mse: 725.86768|  0:00:01s\n",
            "epoch 24 | loss: 694.91113| train_rmsle: 7.2634  | train_mae: 26.25929| train_rmse: 26.52605| train_mse: 703.63146| valid_rmsle: 7.45031 | valid_mae: 26.56957| valid_rmse: 26.77981| valid_mse: 717.15824|  0:00:01s\n",
            "epoch 25 | loss: 685.08453| train_rmsle: 6.75041 | train_mae: 26.02031| train_rmse: 26.29169| train_mse: 691.25294| valid_rmsle: 6.96519 | valid_mae: 26.38186| valid_rmse: 26.59428| valid_mse: 707.2555|  0:00:01s\n",
            "epoch 26 | loss: 674.86066| train_rmsle: 6.2321  | train_mae: 25.76633| train_rmse: 26.03811| train_mse: 677.98323| valid_rmsle: 6.49293 | valid_mae: 26.18291| valid_rmse: 26.39824| valid_mse: 696.86721|  0:00:01s\n",
            "epoch 27 | loss: 663.25488| train_rmsle: 5.6997  | train_mae: 25.44659| train_rmse: 25.72304| train_mse: 661.6746| valid_rmsle: 5.97014 | valid_mae: 25.91338| valid_rmse: 26.1329 | valid_mse: 682.92861|  0:00:01s\n",
            "epoch 28 | loss: 654.83582| train_rmsle: 5.23421 | train_mae: 25.11733| train_rmse: 25.39693| train_mse: 645.00422| valid_rmsle: 5.47253 | valid_mae: 25.56165| valid_rmse: 25.8052 | valid_mse: 665.9083|  0:00:01s\n",
            "epoch 29 | loss: 634.34668| train_rmsle: 4.80194 | train_mae: 24.78018| train_rmse: 25.06258| train_mse: 628.13268| valid_rmsle: 4.99772 | valid_mae: 25.21802| valid_rmse: 25.47724| valid_mse: 649.08971|  0:00:01s\n",
            "epoch 30 | loss: 627.88336| train_rmsle: 4.34981 | train_mae: 24.32534| train_rmse: 24.62967| train_mse: 606.62042| valid_rmsle: 4.46377 | valid_mae: 24.68531| valid_rmse: 24.98654| valid_mse: 624.32707|  0:00:02s\n",
            "epoch 31 | loss: 611.79578| train_rmsle: 3.91763 | train_mae: 23.88077| train_rmse: 24.19599| train_mse: 585.44609| valid_rmsle: 4.06991 | valid_mae: 24.24819| valid_rmse: 24.58333| valid_mse: 604.33994|  0:00:02s\n",
            "epoch 32 | loss: 598.92889| train_rmsle: 3.50884 | train_mae: 23.36664| train_rmse: 23.70039| train_mse: 561.70864| valid_rmsle: 3.68847 | valid_mae: 23.75352| valid_rmse: 24.13857| valid_mse: 582.67076|  0:00:02s\n",
            "epoch 33 | loss: 578.68433| train_rmsle: 3.16048 | train_mae: 22.85971| train_rmse: 23.22132| train_mse: 539.22967| valid_rmsle: 3.38301 | valid_mae: 23.35468| valid_rmse: 23.76026| valid_mse: 564.55003|  0:00:02s\n",
            "epoch 34 | loss: 566.68237| train_rmsle: 2.85224 | train_mae: 22.36861| train_rmse: 22.76178| train_mse: 518.09885| valid_rmsle: 3.04877 | valid_mae: 22.85702| valid_rmse: 23.28598| valid_mse: 542.23671|  0:00:02s\n",
            "epoch 35 | loss: 545.65503| train_rmsle: 2.54032 | train_mae: 21.8298 | train_rmse: 22.24581| train_mse: 494.8759| valid_rmsle: 2.63007 | valid_mae: 22.08787| valid_rmse: 22.59574| valid_mse: 510.56766|  0:00:02s\n",
            "epoch 36 | loss: 525.87671| train_rmsle: 2.20596 | train_mae: 21.09975| train_rmse: 21.54159| train_mse: 464.04015| valid_rmsle: 2.23908 | valid_mae: 21.19129| valid_rmse: 21.73565| valid_mse: 472.43847|  0:00:02s\n",
            "epoch 37 | loss: 506.1145| train_rmsle: 1.92679 | train_mae: 20.3129 | train_rmse: 20.8248 | train_mse: 433.67214| valid_rmsle: 1.93762 | valid_mae: 20.50315| valid_rmse: 21.06748| valid_mse: 443.83856|  0:00:02s\n",
            "epoch 38 | loss: 483.70901| train_rmsle: 1.68714 | train_mae: 19.58095| train_rmse: 20.13617| train_mse: 405.46514| valid_rmsle: 1.74311 | valid_mae: 19.92641| valid_rmse: 20.51235| valid_mse: 420.75639|  0:00:02s\n",
            "epoch 39 | loss: 461.80597| train_rmsle: 1.51548 | train_mae: 18.99352| train_rmse: 19.56451| train_mse: 382.76995| valid_rmsle: 1.51664 | valid_mae: 19.31476| valid_rmse: 19.86664| valid_mse: 394.68352|  0:00:02s\n",
            "epoch 40 | loss: 438.31247| train_rmsle: 1.3588  | train_mae: 18.4415 | train_rmse: 19.02242| train_mse: 361.85257| valid_rmsle: 1.34237 | valid_mae: 18.68541| valid_rmse: 19.29419| valid_mse: 372.26576|  0:00:02s\n",
            "epoch 41 | loss: 416.4054| train_rmsle: 1.21147 | train_mae: 17.82793| train_rmse: 18.43298| train_mse: 339.77484| valid_rmsle: 1.20097 | valid_mae: 17.954  | valid_rmse: 18.68626| valid_mse: 349.17649|  0:00:02s\n",
            "epoch 42 | loss: 391.73618| train_rmsle: 1.0772  | train_mae: 17.20037| train_rmse: 17.831  | train_mse: 317.9445| valid_rmsle: 1.0794  | valid_mae: 17.22092| valid_rmse: 18.09568| valid_mse: 327.45358|  0:00:02s\n",
            "epoch 43 | loss: 366.19232| train_rmsle: 0.97595 | train_mae: 16.67249| train_rmse: 17.33157| train_mse: 300.38331| valid_rmsle: 1.02597 | valid_mae: 16.7573 | valid_rmse: 17.62739| valid_mse: 310.72495|  0:00:02s\n",
            "epoch 44 | loss: 345.19397| train_rmsle: 0.89093 | train_mae: 16.16855| train_rmse: 16.84452| train_mse: 283.73793| valid_rmsle: 0.89587 | valid_mae: 16.03424| valid_rmse: 16.91504| valid_mse: 286.11846|  0:00:02s\n",
            "epoch 45 | loss: 319.02603| train_rmsle: 0.79492 | train_mae: 15.56757| train_rmse: 16.27427| train_mse: 264.85172| valid_rmsle: 0.79168 | valid_mae: 15.38952| valid_rmse: 16.29045| valid_mse: 265.37881|  0:00:02s\n",
            "epoch 46 | loss: 292.67258| train_rmsle: 0.6954  | train_mae: 14.85689| train_rmse: 15.61056| train_mse: 243.6895| valid_rmsle: 0.67632 | valid_mae: 14.52199| valid_rmse: 15.46018| valid_mse: 239.01705|  0:00:03s\n",
            "epoch 47 | loss: 269.27957| train_rmsle: 0.58433 | train_mae: 13.99574| train_rmse: 14.78705| train_mse: 218.65693| valid_rmsle: 0.58532 | valid_mae: 13.88754| valid_rmse: 14.80931| valid_mse: 219.31576|  0:00:03s\n",
            "epoch 48 | loss: 243.08395| train_rmsle: 0.50494 | train_mae: 13.24549| train_rmse: 14.06511| train_mse: 197.82733| valid_rmsle: 0.48604 | valid_mae: 13.01299| valid_rmse: 13.92489| valid_mse: 193.90259|  0:00:03s\n",
            "epoch 49 | loss: 218.98787| train_rmsle: 0.43708 | train_mae: 12.47039| train_rmse: 13.35342| train_mse: 178.31378| valid_rmsle: 0.41425 | valid_mae: 12.32776| valid_rmse: 13.23258| valid_mse: 175.10126|  0:00:03s\n",
            "epoch 50 | loss: 193.36559| train_rmsle: 0.38829 | train_mae: 11.84534| train_rmse: 12.76621| train_mse: 162.97609| valid_rmsle: 0.35243 | valid_mae: 11.48442| valid_rmse: 12.47058| valid_mse: 155.51544|  0:00:03s\n",
            "epoch 51 | loss: 169.09627| train_rmsle: 0.333   | train_mae: 11.14468| train_rmse: 12.07085| train_mse: 145.70538| valid_rmsle: 0.30562 | valid_mae: 10.84179| valid_rmse: 11.82772| valid_mse: 139.89503|  0:00:03s\n",
            "epoch 52 | loss: 147.2475| train_rmsle: 0.28242 | train_mae: 10.45516| train_rmse: 11.37122| train_mse: 129.30469| valid_rmsle: 0.2432  | valid_mae: 9.94351 | valid_rmse: 10.8801 | valid_mse: 118.37654|  0:00:03s\n",
            "epoch 53 | loss: 125.24934| train_rmsle: 0.23784 | train_mae: 9.73597 | train_rmse: 10.63427| train_mse: 113.08772| valid_rmsle: 0.26595 | valid_mae: 9.54941 | valid_rmse: 10.74103| valid_mse: 115.36972|  0:00:03s\n",
            "epoch 54 | loss: 107.07889| train_rmsle: 0.20484 | train_mae: 9.08415 | train_rmse: 9.97696 | train_mse: 99.5397 | valid_rmsle: 0.24795 | valid_mae: 9.21858 | valid_rmse: 10.4788 | valid_mse: 109.80518|  0:00:03s\n",
            "epoch 55 | loss: 87.6675 | train_rmsle: 0.16713 | train_mae: 8.33128 | train_rmse: 9.25349 | train_mse: 85.62714| valid_rmsle: 0.21649 | valid_mae: 8.61888 | valid_rmse: 9.95305 | valid_mse: 99.06326|  0:00:03s\n",
            "epoch 56 | loss: 69.45295| train_rmsle: 0.13755 | train_mae: 7.59952 | train_rmse: 8.64711 | train_mse: 74.77257| valid_rmsle: 0.17214 | valid_mae: 7.85727 | valid_rmse: 9.17902 | valid_mse: 84.25437|  0:00:03s\n",
            "epoch 57 | loss: 56.72744| train_rmsle: 0.11492 | train_mae: 6.99149 | train_rmse: 8.15951 | train_mse: 66.57752| valid_rmsle: 0.1397  | valid_mae: 7.21526 | valid_rmse: 8.47565 | valid_mse: 71.83662|  0:00:03s\n",
            "epoch 58 | loss: 41.62993| train_rmsle: 0.10254 | train_mae: 6.56774 | train_rmse: 7.817   | train_mse: 61.10547| valid_rmsle: 0.12305 | valid_mae: 6.88335 | valid_rmse: 8.12574 | valid_mse: 66.02767|  0:00:03s\n",
            "epoch 59 | loss: 31.21336| train_rmsle: 0.08863 | train_mae: 6.18528 | train_rmse: 7.44192 | train_mse: 55.38222| valid_rmsle: 0.11259 | valid_mae: 6.63559 | valid_rmse: 7.91185 | valid_mse: 62.59739|  0:00:03s\n",
            "epoch 60 | loss: 22.48341| train_rmsle: 0.0724  | train_mae: 5.73852 | train_rmse: 6.99786 | train_mse: 48.96999| valid_rmsle: 0.0873  | valid_mae: 6.05831 | valid_rmse: 7.22921 | valid_mse: 52.26152|  0:00:03s\n",
            "epoch 61 | loss: 15.91191| train_rmsle: 0.06316 | train_mae: 5.2652  | train_rmse: 6.64851 | train_mse: 44.20264| valid_rmsle: 0.06421 | valid_mae: 5.35638 | valid_rmse: 6.4578  | valid_mse: 41.70319|  0:00:03s\n",
            "epoch 62 | loss: 13.20041| train_rmsle: 0.05424 | train_mae: 4.9047  | train_rmse: 6.32742 | train_mse: 40.03621| valid_rmsle: 0.06097 | valid_mae: 4.89304 | valid_rmse: 6.19754 | valid_mse: 38.40947|  0:00:04s\n",
            "epoch 63 | loss: 12.51593| train_rmsle: 0.0472  | train_mae: 4.49656 | train_rmse: 5.97855 | train_mse: 35.74303| valid_rmsle: 0.04126 | valid_mae: 3.98414 | valid_rmse: 5.1836  | valid_mse: 26.86967|  0:00:04s\n",
            "epoch 64 | loss: 13.40495| train_rmsle: 0.04176 | train_mae: 4.20288 | train_rmse: 5.64396 | train_mse: 31.85433| valid_rmsle: 0.03828 | valid_mae: 3.77525 | valid_rmse: 4.98661 | valid_mse: 24.86625|  0:00:04s\n",
            "epoch 65 | loss: 17.01775| train_rmsle: 0.03976 | train_mae: 4.07256 | train_rmse: 5.27741 | train_mse: 27.85103| valid_rmsle: 0.0318  | valid_mae: 3.7006  | valid_rmse: 4.60771 | valid_mse: 21.23097|  0:00:04s\n",
            "epoch 66 | loss: 16.05457| train_rmsle: 0.03695 | train_mae: 3.88604 | train_rmse: 5.06753 | train_mse: 25.67988| valid_rmsle: 0.02691 | valid_mae: 3.4758  | valid_rmse: 4.36299 | valid_mse: 19.03567|  0:00:04s\n",
            "epoch 67 | loss: 19.94427| train_rmsle: 0.03525 | train_mae: 3.74787 | train_rmse: 4.90812 | train_mse: 24.08968| valid_rmsle: 0.03663 | valid_mae: 3.74371 | valid_rmse: 4.99943 | valid_mse: 24.9943 |  0:00:04s\n",
            "epoch 68 | loss: 20.24866| train_rmsle: 0.03369 | train_mae: 3.56501 | train_rmse: 4.74574 | train_mse: 22.52201| valid_rmsle: 0.02866 | valid_mae: 3.34432 | valid_rmse: 4.51757 | valid_mse: 20.40839|  0:00:04s\n",
            "epoch 69 | loss: 20.85147| train_rmsle: 0.03443 | train_mae: 3.50683 | train_rmse: 4.55849 | train_mse: 20.77986| valid_rmsle: 0.02663 | valid_mae: 3.31928 | valid_rmse: 4.37717 | valid_mse: 19.15966|  0:00:04s\n",
            "epoch 70 | loss: 20.98462| train_rmsle: 0.03432 | train_mae: 3.53738 | train_rmse: 4.56654 | train_mse: 20.85328| valid_rmsle: 0.03093 | valid_mae: 3.57916 | valid_rmse: 4.62447 | valid_mse: 21.38572|  0:00:04s\n",
            "epoch 71 | loss: 17.97656| train_rmsle: 0.03375 | train_mae: 3.59256 | train_rmse: 4.56422 | train_mse: 20.83208| valid_rmsle: 0.03793 | valid_mae: 3.99362 | valid_rmse: 5.02025 | valid_mse: 25.20289|  0:00:04s\n",
            "epoch 72 | loss: 14.92905| train_rmsle: 0.03379 | train_mae: 3.67345 | train_rmse: 4.60192 | train_mse: 21.17767| valid_rmsle: 0.03675 | valid_mae: 4.06993 | valid_rmse: 4.96072 | valid_mse: 24.60873|  0:00:04s\n",
            "epoch 73 | loss: 13.60236| train_rmsle: 0.03798 | train_mae: 3.91566 | train_rmse: 4.86836 | train_mse: 23.70096| valid_rmsle: 0.03804 | valid_mae: 4.30021 | valid_rmse: 5.05005 | valid_mse: 25.50296|  0:00:04s\n",
            "epoch 74 | loss: 12.57927| train_rmsle: 0.04218 | train_mae: 4.29328 | train_rmse: 5.17799 | train_mse: 26.81159| valid_rmsle: 0.04333 | valid_mae: 4.66472 | valid_rmse: 5.37983 | valid_mse: 28.94256|  0:00:04s\n",
            "epoch 75 | loss: 10.52412| train_rmsle: 0.04676 | train_mae: 4.66223 | train_rmse: 5.47724 | train_mse: 30.00017| valid_rmsle: 0.04831 | valid_mae: 5.05678 | valid_rmse: 5.68096 | valid_mse: 32.27325|  0:00:04s\n",
            "epoch 76 | loss: 11.9935 | train_rmsle: 0.05561 | train_mae: 5.10052 | train_rmse: 5.85059 | train_mse: 34.22941| valid_rmsle: 0.06068 | valid_mae: 5.5856  | valid_rmse: 6.24145 | valid_mse: 38.95567|  0:00:04s\n",
            "epoch 77 | loss: 11.22374| train_rmsle: 0.05822 | train_mae: 5.30973 | train_rmse: 5.99866 | train_mse: 35.98394| valid_rmsle: 0.06305 | valid_mae: 5.63653 | valid_rmse: 6.36189 | valid_mse: 40.4736 |  0:00:04s\n",
            "epoch 78 | loss: 11.51877| train_rmsle: 0.05502 | train_mae: 5.23713 | train_rmse: 5.86772 | train_mse: 34.4301 | valid_rmsle: 0.0612  | valid_mae: 5.48163 | valid_rmse: 6.26504 | valid_mse: 39.25072|  0:00:04s\n",
            "epoch 79 | loss: 11.51493| train_rmsle: 0.04898 | train_mae: 4.97916 | train_rmse: 5.57562 | train_mse: 31.08752| valid_rmsle: 0.0576  | valid_mae: 5.36099 | valid_rmse: 6.06554 | valid_mse: 36.7908 |  0:00:05s\n",
            "epoch 80 | loss: 9.81467 | train_rmsle: 0.04564 | train_mae: 4.69498 | train_rmse: 5.35631 | train_mse: 28.69007| valid_rmsle: 0.05612 | valid_mae: 5.12959 | valid_rmse: 5.96004 | valid_mse: 35.5221 |  0:00:05s\n",
            "epoch 81 | loss: 9.16535 | train_rmsle: 0.04201 | train_mae: 4.41269 | train_rmse: 5.1284  | train_mse: 26.30047| valid_rmsle: 0.05629 | valid_mae: 5.13113 | valid_rmse: 5.92249 | valid_mse: 35.07593|  0:00:05s\n",
            "epoch 82 | loss: 9.57695 | train_rmsle: 0.03758 | train_mae: 4.14745 | train_rmse: 4.86233 | train_mse: 23.64224| valid_rmsle: 0.05417 | valid_mae: 4.92398 | valid_rmse: 5.82432 | valid_mse: 33.92269|  0:00:05s\n",
            "epoch 83 | loss: 10.58221| train_rmsle: 0.03584 | train_mae: 3.97277 | train_rmse: 4.70654 | train_mse: 22.1515 | valid_rmsle: 0.05369 | valid_mae: 4.96765 | valid_rmse: 5.81995 | valid_mse: 33.87185|  0:00:05s\n",
            "epoch 84 | loss: 9.14315 | train_rmsle: 0.03259 | train_mae: 3.76877 | train_rmse: 4.50468 | train_mse: 20.29217| valid_rmsle: 0.05567 | valid_mae: 5.02192 | valid_rmse: 5.90163 | valid_mse: 34.82923|  0:00:05s\n",
            "epoch 85 | loss: 8.63358 | train_rmsle: 0.03055 | train_mae: 3.58431 | train_rmse: 4.36919 | train_mse: 19.08986| valid_rmsle: 0.04772 | valid_mae: 4.60007 | valid_rmse: 5.5268  | valid_mse: 30.54548|  0:00:05s\n",
            "epoch 86 | loss: 7.85336 | train_rmsle: 0.03099 | train_mae: 3.69007 | train_rmse: 4.42238 | train_mse: 19.55748| valid_rmsle: 0.03908 | valid_mae: 4.30455 | valid_rmse: 5.06931 | valid_mse: 25.69791|  0:00:05s\n",
            "epoch 87 | loss: 7.98535 | train_rmsle: 0.03373 | train_mae: 3.83911 | train_rmse: 4.62143 | train_mse: 21.35764| valid_rmsle: 0.04114 | valid_mae: 4.43092 | valid_rmse: 5.19388 | valid_mse: 26.97638|  0:00:05s\n",
            "epoch 88 | loss: 8.74797 | train_rmsle: 0.03424 | train_mae: 3.87124 | train_rmse: 4.65306 | train_mse: 21.65098| valid_rmsle: 0.04514 | valid_mae: 4.68023 | valid_rmse: 5.42324 | valid_mse: 29.41149|  0:00:05s\n",
            "epoch 89 | loss: 8.67346 | train_rmsle: 0.03547 | train_mae: 3.92517 | train_rmse: 4.7302  | train_mse: 22.3748 | valid_rmsle: 0.04535 | valid_mae: 4.69472 | valid_rmse: 5.39888 | valid_mse: 29.14789|  0:00:05s\n",
            "epoch 90 | loss: 8.73975 | train_rmsle: 0.03596 | train_mae: 3.96299 | train_rmse: 4.76789 | train_mse: 22.73276| valid_rmsle: 0.04247 | valid_mae: 4.49829 | valid_rmse: 5.266   | valid_mse: 27.73072|  0:00:05s\n",
            "epoch 91 | loss: 8.11504 | train_rmsle: 0.0374  | train_mae: 4.01539 | train_rmse: 4.85179 | train_mse: 23.53985| valid_rmsle: 0.04118 | valid_mae: 4.44053 | valid_rmse: 5.19415 | valid_mse: 26.97919|  0:00:05s\n",
            "epoch 92 | loss: 7.68066 | train_rmsle: 0.03784 | train_mae: 4.00017 | train_rmse: 4.83977 | train_mse: 23.42339| valid_rmsle: 0.04013 | valid_mae: 4.45866 | valid_rmse: 5.12477 | valid_mse: 26.26328|  0:00:05s\n",
            "epoch 93 | loss: 7.55853 | train_rmsle: 0.03528 | train_mae: 3.8904  | train_rmse: 4.68865 | train_mse: 21.98345| valid_rmsle: 0.03705 | valid_mae: 4.30581 | valid_rmse: 4.9552  | valid_mse: 24.55399|  0:00:05s\n",
            "epoch 94 | loss: 8.10225 | train_rmsle: 0.03028 | train_mae: 3.67308 | train_rmse: 4.3759  | train_mse: 19.14853| valid_rmsle: 0.03604 | valid_mae: 4.35685 | valid_rmse: 4.95652 | valid_mse: 24.56706|  0:00:05s\n",
            "epoch 95 | loss: 7.98313 | train_rmsle: 0.02641 | train_mae: 3.52454 | train_rmse: 4.1585  | train_mse: 17.29311| valid_rmsle: 0.03217 | valid_mae: 4.00137 | valid_rmse: 4.65662 | valid_mse: 21.68413|  0:00:05s\n",
            "epoch 96 | loss: 7.03607 | train_rmsle: 0.02283 | train_mae: 3.17416 | train_rmse: 3.85709 | train_mse: 14.87711| valid_rmsle: 0.02751 | valid_mae: 3.60054 | valid_rmse: 4.22486 | valid_mse: 17.84942|  0:00:05s\n",
            "epoch 97 | loss: 6.62148 | train_rmsle: 0.02137 | train_mae: 3.01893 | train_rmse: 3.72469 | train_mse: 13.87329| valid_rmsle: 0.02331 | valid_mae: 3.39774 | valid_rmse: 3.98309 | valid_mse: 15.86501|  0:00:05s\n",
            "epoch 98 | loss: 5.9457  | train_rmsle: 0.02175 | train_mae: 3.0113  | train_rmse: 3.74565 | train_mse: 14.02991| valid_rmsle: 0.02244 | valid_mae: 3.35694 | valid_rmse: 3.91739 | valid_mse: 15.34596|  0:00:05s\n",
            "epoch 99 | loss: 6.59406 | train_rmsle: 0.02048 | train_mae: 2.89804 | train_rmse: 3.61748 | train_mse: 13.08617| valid_rmsle: 0.02147 | valid_mae: 3.28533 | valid_rmse: 3.82229 | valid_mse: 14.60989|  0:00:06s\n",
            "Stop training because you reached max_epochs = 100 with best_epoch = 99 and best_valid_mse = 14.60989\n",
            "Best weights from best epoch are automatically used!\n"
          ]
        }
      ]
    },
    {
      "cell_type": "code",
      "source": [
        "preds = model.predict(x_test)\n",
        "\n",
        "y_true = y_test\n",
        "\n",
        "test_score = mean_squared_error(y_pred=preds, y_true=y_true)\n",
        "\n",
        "print(f\"BEST VALID SCORE FOR MY DATASET : {model.best_cost}\")\n",
        "print(f\"FINAL TEST SCORE FOR MY DATASET : {test_score}\")"
      ],
      "metadata": {
        "colab": {
          "base_uri": "https://localhost:8080/"
        },
        "id": "5be7imIv8KBz",
        "outputId": "f36b2e40-6a6d-45d0-f340-7792b2a7ffa5"
      },
      "execution_count": null,
      "outputs": [
        {
          "output_type": "stream",
          "name": "stdout",
          "text": [
            "BEST VALID SCORE FOR MY DATASET : 14.609885610348101\n",
            "FINAL TEST SCORE FOR MY DATASET : 14.609885610348101\n"
          ]
        }
      ]
    },
    {
      "cell_type": "markdown",
      "source": [
        "# 保存和加载模型"
      ],
      "metadata": {
        "id": "vNTBND539L-F"
      }
    },
    {
      "cell_type": "code",
      "source": [
        "# save tabnet model\n",
        "saving_path_name = \"./tabnet_model_regress\"\n",
        "saved_filepath = model.save_model(saving_path_name)"
      ],
      "metadata": {
        "colab": {
          "base_uri": "https://localhost:8080/"
        },
        "id": "R3r3jntW9DTA",
        "outputId": "e4e9ebae-7077-486d-e6c2-78e08052fa2f"
      },
      "execution_count": null,
      "outputs": [
        {
          "output_type": "stream",
          "name": "stdout",
          "text": [
            "Successfully saved model at ./tabnet_model_regress.zip\n"
          ]
        }
      ]
    },
    {
      "cell_type": "code",
      "source": [
        "# define new model with basic parameters and load state dict weights\n",
        "loaded_model = TabNetRegressor()\n",
        "loaded_model.load_model(saved_filepath)"
      ],
      "metadata": {
        "colab": {
          "base_uri": "https://localhost:8080/"
        },
        "id": "k5GLUwMH9XK6",
        "outputId": "cc434b7f-dcf1-4d0d-c905-672d15b771a1"
      },
      "execution_count": null,
      "outputs": [
        {
          "output_type": "stream",
          "name": "stdout",
          "text": [
            "Device used : cpu\n",
            "Device used : cpu\n"
          ]
        }
      ]
    },
    {
      "cell_type": "code",
      "source": [
        "loaded_preds = loaded_model.predict(x_test)\n",
        "loaded_test_mse = mean_squared_error(loaded_preds, y_test)\n",
        "\n",
        "print(f\"FINAL TEST SCORE FOR MY DATASET : {loaded_test_mse}\")"
      ],
      "metadata": {
        "colab": {
          "base_uri": "https://localhost:8080/"
        },
        "id": "0r4O_KKd9fAY",
        "outputId": "0e5b4df2-d403-47b1-d47d-b08850a97319"
      },
      "execution_count": null,
      "outputs": [
        {
          "output_type": "stream",
          "name": "stdout",
          "text": [
            "FINAL TEST SCORE FOR MY DATASET : 14.609885610348101\n"
          ]
        }
      ]
    },
    {
      "cell_type": "code",
      "source": [
        "assert(test_score == loaded_test_mse)"
      ],
      "metadata": {
        "id": "y2F7-U3O9plM"
      },
      "execution_count": null,
      "outputs": []
    },
    {
      "cell_type": "markdown",
      "source": [
        "# 特征重要性"
      ],
      "metadata": {
        "id": "Bnsf1f6K9t2U"
      }
    },
    {
      "cell_type": "code",
      "source": [
        "model.feature_importances_"
      ],
      "metadata": {
        "colab": {
          "base_uri": "https://localhost:8080/"
        },
        "id": "YJza09vV_c6L",
        "outputId": "41d925b1-3622-42d2-8af1-6729835eb4a2"
      },
      "execution_count": null,
      "outputs": [
        {
          "output_type": "execute_result",
          "data": {
            "text/plain": [
              "array([0.00000000e+00, 0.00000000e+00, 6.71387939e-04, 2.05337841e-02,\n",
              "       4.78542542e-05, 2.17509603e-03, 0.00000000e+00, 1.41780750e-03,\n",
              "       0.00000000e+00, 0.00000000e+00, 0.00000000e+00, 0.00000000e+00,\n",
              "       0.00000000e+00, 0.00000000e+00, 0.00000000e+00, 0.00000000e+00,\n",
              "       0.00000000e+00, 0.00000000e+00, 3.34894672e-02, 5.75657313e-03,\n",
              "       6.85875311e-04, 0.00000000e+00, 3.21929310e-03, 1.56464058e-04,\n",
              "       0.00000000e+00, 0.00000000e+00, 0.00000000e+00, 1.08791711e-04,\n",
              "       0.00000000e+00, 3.40201875e-04, 3.01925679e-04, 9.19540613e-03,\n",
              "       0.00000000e+00, 0.00000000e+00, 0.00000000e+00, 1.81645360e-03,\n",
              "       7.94479938e-04, 1.89988521e-03, 9.56426588e-03, 0.00000000e+00,\n",
              "       0.00000000e+00, 0.00000000e+00, 0.00000000e+00, 0.00000000e+00,\n",
              "       4.53322704e-03, 0.00000000e+00, 0.00000000e+00, 1.45608244e-02,\n",
              "       0.00000000e+00, 1.07059504e-02, 0.00000000e+00, 1.30042589e-03,\n",
              "       6.59163652e-03, 7.98508567e-03, 0.00000000e+00, 0.00000000e+00,\n",
              "       1.89987721e-02, 3.74056974e-04, 0.00000000e+00, 3.23114735e-04,\n",
              "       4.06856460e-04, 0.00000000e+00, 0.00000000e+00, 0.00000000e+00,\n",
              "       3.82435768e-04, 0.00000000e+00, 0.00000000e+00, 4.08361259e-04,\n",
              "       9.96907860e-04, 8.45078301e-04, 4.97699949e-03, 2.42966951e-02,\n",
              "       0.00000000e+00, 2.23463187e-03, 0.00000000e+00, 0.00000000e+00,\n",
              "       4.22365353e-06, 0.00000000e+00, 0.00000000e+00, 5.17041354e-03,\n",
              "       2.06250847e-02, 8.62112020e-03, 0.00000000e+00, 1.31335031e-02,\n",
              "       0.00000000e+00, 2.49632285e-03, 1.11575192e-02, 9.64294833e-02,\n",
              "       5.71331944e-02, 1.07431186e-01, 0.00000000e+00, 3.19199200e-03,\n",
              "       0.00000000e+00, 1.26581858e-03, 2.50243274e-02, 0.00000000e+00,\n",
              "       6.35125610e-02, 0.00000000e+00, 1.44057358e-04, 5.44634640e-02,\n",
              "       7.59812625e-03, 0.00000000e+00, 0.00000000e+00, 0.00000000e+00,\n",
              "       0.00000000e+00, 2.18863216e-02, 1.33726104e-02, 4.78658840e-04,\n",
              "       0.00000000e+00, 0.00000000e+00, 0.00000000e+00, 4.14287737e-03,\n",
              "       3.47316650e-03, 1.30829236e-04, 0.00000000e+00, 1.53962047e-02,\n",
              "       1.54755642e-01, 0.00000000e+00, 0.00000000e+00, 4.10786272e-02,\n",
              "       0.00000000e+00, 0.00000000e+00, 2.64310135e-03, 0.00000000e+00,\n",
              "       0.00000000e+00, 1.27109496e-02, 0.00000000e+00, 7.13302623e-03,\n",
              "       0.00000000e+00, 3.54034763e-02, 1.78960392e-02, 0.00000000e+00,\n",
              "       0.00000000e+00, 0.00000000e+00, 0.00000000e+00])"
            ]
          },
          "metadata": {},
          "execution_count": 27
        }
      ]
    },
    {
      "cell_type": "markdown",
      "source": [
        "# 可解释性"
      ],
      "metadata": {
        "id": "DTZAkhh4_3Sj"
      }
    },
    {
      "cell_type": "code",
      "source": [
        "explain_matrix, masks = model.explain(x_test)"
      ],
      "metadata": {
        "id": "BrK-h-FT_mFF"
      },
      "execution_count": null,
      "outputs": []
    },
    {
      "cell_type": "code",
      "source": [
        "%matplotlib inline"
      ],
      "metadata": {
        "id": "oKXVD5JO_tLJ"
      },
      "execution_count": null,
      "outputs": []
    },
    {
      "cell_type": "code",
      "source": [
        "fig, axs = plt.subplots(1, 3, figsize=(20,20))\n",
        "\n",
        "for i in range(3):\n",
        "    axs[i].imshow(masks[i][:50])\n",
        "    axs[i].set_title(f\"mask {i}\")"
      ],
      "metadata": {
        "colab": {
          "base_uri": "https://localhost:8080/",
          "height": 171
        },
        "id": "N3geELOC_u_3",
        "outputId": "2c7d74cb-d96d-42b0-bf82-46d6763436ce"
      },
      "execution_count": null,
      "outputs": [
        {
          "output_type": "display_data",
          "data": {
            "text/plain": [
              "<Figure size 1440x1440 with 3 Axes>"
            ],
            "image/png": "[encoded data removed]"
          },
          "metadata": {
            "needs_background": "light"
          }
        }
      ]
    },
    {
      "cell_type": "markdown",
      "source": [
        "# XGB"
      ],
      "metadata": {
        "id": "ceYS8eoq_--S"
      }
    },
    {
      "cell_type": "code",
      "source": [
        "from xgboost import XGBRegressor\n",
        "\n",
        "xgb = XGBRegressor(max_depth=8,\n",
        "    learning_rate=0.1,\n",
        "    n_estimators=1000,\n",
        "    verbosity=0,\n",
        "    silent=None,\n",
        "    objective='reg:linear',\n",
        "    booster='gbtree',\n",
        "    n_jobs=-1,\n",
        "    nthread=None,\n",
        "    gamma=0,\n",
        "    min_child_weight=1,\n",
        "    max_delta_step=0,\n",
        "    subsample=0.7,\n",
        "    colsample_bytree=1,\n",
        "    colsample_bylevel=1,\n",
        "    colsample_bynode=1,\n",
        "    reg_alpha=0,\n",
        "    reg_lambda=1,\n",
        "    scale_pos_weight=1,\n",
        "    base_score=0.5,\n",
        "    random_state=0,\n",
        "    seed=None,)\n",
        "\n",
        "xgb.fit(x_train, y_train,\n",
        "        eval_set=[(x_test, y_test)],\n",
        "        early_stopping_rounds=40,\n",
        "        verbose=10)"
      ],
      "metadata": {
        "colab": {
          "base_uri": "https://localhost:8080/"
        },
        "id": "CKp83WbJ_-b1",
        "outputId": "08aa8aa8-d645-4a14-be4f-b86763a4d321"
      },
      "execution_count": null,
      "outputs": [
        {
          "output_type": "stream",
          "name": "stdout",
          "text": [
            "[0]\tvalidation_0-rmse:24.5511\n",
            "Will train until validation_0-rmse hasn't improved in 40 rounds.\n",
            "[10]\tvalidation_0-rmse:9.42919\n",
            "[20]\tvalidation_0-rmse:4.72822\n",
            "[30]\tvalidation_0-rmse:3.23197\n",
            "[40]\tvalidation_0-rmse:2.84529\n",
            "[50]\tvalidation_0-rmse:2.7188\n",
            "[60]\tvalidation_0-rmse:2.65901\n",
            "[70]\tvalidation_0-rmse:2.65138\n",
            "[80]\tvalidation_0-rmse:2.64361\n",
            "[90]\tvalidation_0-rmse:2.6449\n",
            "[100]\tvalidation_0-rmse:2.64117\n",
            "[110]\tvalidation_0-rmse:2.64071\n",
            "[120]\tvalidation_0-rmse:2.64072\n",
            "[130]\tvalidation_0-rmse:2.64025\n",
            "[140]\tvalidation_0-rmse:2.64001\n",
            "[150]\tvalidation_0-rmse:2.6397\n",
            "[160]\tvalidation_0-rmse:2.63978\n",
            "[170]\tvalidation_0-rmse:2.63987\n",
            "Stopping. Best iteration:\n",
            "[135]\tvalidation_0-rmse:2.63949\n",
            "\n"
          ]
        },
        {
          "output_type": "execute_result",
          "data": {
            "text/plain": [
              "XGBRegressor(max_depth=8, n_estimators=1000, n_jobs=-1, subsample=0.7,\n",
              "             verbosity=0)"
            ]
          },
          "metadata": {},
          "execution_count": 31
        }
      ]
    },
    {
      "cell_type": "code",
      "source": [
        "preds = np.array(xgb.predict(x_train))\n",
        "valid_auc = mean_squared_error(y_pred=preds, y_true=y_train)\n",
        "print('train_auc:', valid_auc)\n",
        "\n",
        "preds = np.array(xgb.predict(x_test))\n",
        "test_auc = mean_squared_error(y_pred=preds, y_true=y_test)\n",
        "print('test_auc:', test_auc)"
      ],
      "metadata": {
        "colab": {
          "base_uri": "https://localhost:8080/"
        },
        "id": "vFrckrfVAG8d",
        "outputId": "eb4aac83-facb-45ef-fe11-d180030a914b"
      },
      "execution_count": null,
      "outputs": [
        {
          "output_type": "stream",
          "name": "stdout",
          "text": [
            "train_auc: 0.0004030733781950528\n",
            "test_auc: 6.966890639384556\n"
          ]
        }
      ]
    }
  ]
}